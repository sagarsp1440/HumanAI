{
 "cells": [
  {
   "cell_type": "markdown",
   "metadata": {},
   "source": [
    "GitHub [link](https://github.com/sagarsp1440/HumanAI)!\n"
   ]
  },
  {
   "cell_type": "code",
   "execution_count": null,
   "metadata": {},
   "outputs": [],
   "source": []
  },
  {
   "cell_type": "markdown",
   "metadata": {},
   "source": [
    "Welcome to your assignment this week! \n",
    "\n",
    "\n",
    "# Classification task\n",
    "\n",
    "In this task you are asked to build a simple Feed Forward Neural Network, train it and test it!\n",
    "\n",
    "\n",
    "**After this assignment you will be able to:**\n",
    "\n",
    "- Load a dataset.\n",
    "- Train a Feed Forward Neural Network.\n",
    "- Test a Feed Forward Neural Network.\n",
    "\n",
    "Let's get started! Run the following cell to install all the packages you will need."
   ]
  },
  {
   "cell_type": "code",
   "execution_count": 3,
   "metadata": {},
   "outputs": [],
   "source": [
    "#!pip install numpy\n",
    "#!pip install keras\n",
    "#!pip install tensorflow\n",
    "#!pip install pandas\n",
    "#!pip install matplotlib"
   ]
  },
  {
   "cell_type": "markdown",
   "metadata": {},
   "source": [
    "Run the following cell to load the packages you will need."
   ]
  },
  {
   "cell_type": "code",
   "execution_count": 4,
   "metadata": {},
   "outputs": [
    {
     "name": "stderr",
     "output_type": "stream",
     "text": [
      "\n",
      "Bad key \"text.kerning_factor\" on line 4 in\n",
      "C:\\Users\\sagar\\anaconda3\\lib\\site-packages\\matplotlib\\mpl-data\\stylelib\\_classic_test_patch.mplstyle.\n",
      "You probably need to get an updated matplotlibrc file from\n",
      "https://github.com/matplotlib/matplotlib/blob/v3.1.3/matplotlibrc.template\n",
      "or from the matplotlib source distribution\n"
     ]
    }
   ],
   "source": [
    "import numpy as np # linear algebra\n",
    "import pandas as pd # data processing, CSV file I/O (e.g. pd.read_csv)\n",
    "from sklearn.model_selection import train_test_split\n",
    "import matplotlib.pyplot as plt\n",
    "import keras\n",
    "from keras.models import Sequential\n",
    "from keras.layers import Dense"
   ]
  },
  {
   "cell_type": "markdown",
   "metadata": {},
   "source": [
    "The dataset we will use consists of 4500 examples with 512 features. A label is given for each example to indicate positive and negative instances.\n",
    "\n",
    "Let's read the data."
   ]
  },
  {
   "cell_type": "code",
   "execution_count": 5,
   "metadata": {},
   "outputs": [],
   "source": [
    "df = pd.read_csv('data.csv')\n",
    "df.set_index('id', inplace=True)"
   ]
  },
  {
   "cell_type": "markdown",
   "metadata": {},
   "source": [
    "Now, let's split the data into training and test sets."
   ]
  },
  {
   "cell_type": "code",
   "execution_count": 43,
   "metadata": {},
   "outputs": [
    {
     "name": "stdout",
     "output_type": "stream",
     "text": [
      "[[ 0.37797 -0.94808  0.01346 ...  1.08635  1.69027  0.61609]\n",
      " [ 0.07609 -0.09774  0.39666 ...  0.00866 -1.2764  -0.60496]\n",
      " [ 1.19391 -0.68707 -0.68422 ... -0.60177  0.43555  0.41982]\n",
      " ...\n",
      " [-0.81564 -0.46034 -0.40044 ...  0.14222  0.10394 -0.33635]\n",
      " [ 0.09764 -0.0544  -1.53883 ... -0.25393  0.84022 -0.13068]\n",
      " [ 0.48335  1.66099 -1.98407 ...  0.06201 -2.24746  0.17192]]\n",
      "[[0]\n",
      " [1]\n",
      " [1]\n",
      " ...\n",
      " [1]\n",
      " [1]\n",
      " [0]]\n",
      "(3825, 1)\n",
      "(3825, 512)\n"
     ]
    }
   ],
   "source": [
    "X_train, X_test, y_train, y_test = train_test_split(\n",
    "    df.index.values,\n",
    "    df.label.values,\n",
    "    test_size=0.15,\n",
    "    random_state=17,\n",
    "    stratify=df.label.values\n",
    ")\n",
    "df['data_type'] = ['note_set']*df.shape[0]\n",
    "df.loc[X_train, 'data_type'] = 'train'\n",
    "df.loc[X_test, 'data_type'] = 'test'\n",
    "\n",
    "## The data to use:\n",
    "\n",
    "X_train = df[df['data_type']=='train'].iloc[:,:512].values\n",
    "X_test = df[df['data_type']=='test'].iloc[:,:512].values\n",
    "y_train = df[df['data_type']=='train'].iloc[:,512:513].values\n",
    "y_test = df[df['data_type']=='test'].iloc[:,512:513].values\n",
    "print(X_train)\n",
    "print(y_train)\n",
    "print(y_train.shape\n",
    "     )\n",
    "print(X_train.shape)"
   ]
  },
  {
   "cell_type": "markdown",
   "metadata": {},
   "source": [
    "# Task 1\n",
    "\n",
    "Build a Feed Forward Neural Network to address this classification task using the Keras framework."
   ]
  },
  {
   "cell_type": "code",
   "execution_count": 44,
   "metadata": {},
   "outputs": [
    {
     "name": "stdout",
     "output_type": "stream",
     "text": [
      "Epoch 1/30\n",
      "3825/3825 [==============================] - 0s 79us/step - loss: 0.7155 - accuracy: 0.4369\n",
      "Epoch 2/30\n",
      "3825/3825 [==============================] - 0s 39us/step - loss: 0.6284 - accuracy: 0.4750\n",
      "Epoch 3/30\n",
      "3825/3825 [==============================] - 0s 40us/step - loss: 0.5899 - accuracy: 0.4931\n",
      "Epoch 4/30\n",
      "3825/3825 [==============================] - 0s 42us/step - loss: 0.5386 - accuracy: 0.5286\n",
      "Epoch 5/30\n",
      "3825/3825 [==============================] - 0s 42us/step - loss: 0.5112 - accuracy: 0.5563\n",
      "Epoch 6/30\n",
      "3825/3825 [==============================] - 0s 42us/step - loss: 0.4865 - accuracy: 0.5736\n",
      "Epoch 7/30\n",
      "3825/3825 [==============================] - 0s 41us/step - loss: 0.4638 - accuracy: 0.6016\n",
      "Epoch 8/30\n",
      "3825/3825 [==============================] - 0s 43us/step - loss: 0.4414 - accuracy: 0.6264\n",
      "Epoch 9/30\n",
      "3825/3825 [==============================] - 0s 41us/step - loss: 0.4291 - accuracy: 0.6353\n",
      "Epoch 10/30\n",
      "3825/3825 [==============================] - 0s 40us/step - loss: 0.4221 - accuracy: 0.6447\n",
      "Epoch 11/30\n",
      "3825/3825 [==============================] - 0s 40us/step - loss: 0.4108 - accuracy: 0.6732\n",
      "Epoch 12/30\n",
      "3825/3825 [==============================] - 0s 41us/step - loss: 0.3973 - accuracy: 0.6829\n",
      "Epoch 13/30\n",
      "3825/3825 [==============================] - 0s 41us/step - loss: 0.3944 - accuracy: 0.6850\n",
      "Epoch 14/30\n",
      "3825/3825 [==============================] - 0s 39us/step - loss: 0.3788 - accuracy: 0.7119\n",
      "Epoch 15/30\n",
      "3825/3825 [==============================] - 0s 39us/step - loss: 0.3704 - accuracy: 0.7140\n",
      "Epoch 16/30\n",
      "3825/3825 [==============================] - 0s 40us/step - loss: 0.3602 - accuracy: 0.7315\n",
      "Epoch 17/30\n",
      "3825/3825 [==============================] - 0s 39us/step - loss: 0.3627 - accuracy: 0.7271\n",
      "Epoch 18/30\n",
      "3825/3825 [==============================] - 0s 40us/step - loss: 0.3507 - accuracy: 0.7472\n",
      "Epoch 19/30\n",
      "3825/3825 [==============================] - 0s 41us/step - loss: 0.3417 - accuracy: 0.7574\n",
      "Epoch 20/30\n",
      "3825/3825 [==============================] - 0s 40us/step - loss: 0.3364 - accuracy: 0.7618\n",
      "Epoch 21/30\n",
      "3825/3825 [==============================] - 0s 39us/step - loss: 0.3331 - accuracy: 0.7754\n",
      "Epoch 22/30\n",
      "3825/3825 [==============================] - 0s 40us/step - loss: 0.3282 - accuracy: 0.7801\n",
      "Epoch 23/30\n",
      "3825/3825 [==============================] - 0s 39us/step - loss: 0.3198 - accuracy: 0.7919\n",
      "Epoch 24/30\n",
      "3825/3825 [==============================] - 0s 42us/step - loss: 0.3105 - accuracy: 0.8021\n",
      "Epoch 25/30\n",
      "3825/3825 [==============================] - 0s 42us/step - loss: 0.3019 - accuracy: 0.8157\n",
      "Epoch 26/30\n",
      "3825/3825 [==============================] - 0s 40us/step - loss: 0.3076 - accuracy: 0.8110\n",
      "Epoch 27/30\n",
      "3825/3825 [==============================] - 0s 40us/step - loss: 0.3037 - accuracy: 0.8149\n",
      "Epoch 28/30\n",
      "3825/3825 [==============================] - 0s 39us/step - loss: 0.2961 - accuracy: 0.8175\n",
      "Epoch 29/30\n",
      "3825/3825 [==============================] - 0s 39us/step - loss: 0.2948 - accuracy: 0.8235\n",
      "Epoch 30/30\n",
      "3825/3825 [==============================] - 0s 39us/step - loss: 0.2918 - accuracy: 0.8335\n",
      "Model: \"sequential_20\"\n",
      "_________________________________________________________________\n",
      "Layer (type)                 Output Shape              Param #   \n",
      "=================================================================\n",
      "dense_50 (Dense)             (None, 32)                16416     \n",
      "_________________________________________________________________\n",
      "drp1 (Dropout)               (None, 32)                0         \n",
      "_________________________________________________________________\n",
      "dense_51 (Dense)             (None, 64)                2112      \n",
      "_________________________________________________________________\n",
      "output (Dense)               (None, 1)                 65        \n",
      "=================================================================\n",
      "Total params: 18,593\n",
      "Trainable params: 18,593\n",
      "Non-trainable params: 0\n",
      "_________________________________________________________________\n"
     ]
    }
   ],
   "source": [
    "# START YOUR CODE HERE\n",
    "from keras.layers import Activation, Dropout\n",
    "from keras.optimizers import Adam\n",
    "model=Sequential()\n",
    "model.add(Dense(32,input_shape=(512,),activation='relu'))\n",
    "model.add(Dropout(0.5,name='drp1'))\n",
    "model.add(Dense(64,activation='relu'))\n",
    "model.add(Dense(1,name='output'))\n",
    "\n",
    "model.compile(optimizer=Adam(lr=0.0001), loss='mae', metrics=['accuracy'])\n",
    "history = model.fit(X_train, y_train,batch_size=74, epochs=30,shuffle=True, verbose=1)\n",
    "model.summary()"
   ]
  },
  {
   "cell_type": "markdown",
   "metadata": {},
   "source": [
    "# Training\n",
    "\n",
    "Now, let's start our training."
   ]
  },
  {
   "cell_type": "code",
   "execution_count": 45,
   "metadata": {},
   "outputs": [
    {
     "name": "stdout",
     "output_type": "stream",
     "text": [
      "Epoch 1/30\n",
      "3825/3825 [==============================] - 1s 155us/step - loss: 0.2775 - accuracy: 0.8507\n",
      "Epoch 2/30\n",
      "3825/3825 [==============================] - 1s 159us/step - loss: 0.2660 - accuracy: 0.8625\n",
      "Epoch 3/30\n",
      "3825/3825 [==============================] - 1s 166us/step - loss: 0.2571 - accuracy: 0.8750\n",
      "Epoch 4/30\n",
      "3825/3825 [==============================] - 1s 171us/step - loss: 0.2534 - accuracy: 0.8850\n",
      "Epoch 5/30\n",
      "3825/3825 [==============================] - 1s 154us/step - loss: 0.2432 - accuracy: 0.8941\n",
      "Epoch 6/30\n",
      "3825/3825 [==============================] - 1s 155us/step - loss: 0.2347 - accuracy: 0.9056\n",
      "Epoch 7/30\n",
      "3825/3825 [==============================] - 1s 154us/step - loss: 0.2291 - accuracy: 0.9103\n",
      "Epoch 8/30\n",
      "3825/3825 [==============================] - 1s 156us/step - loss: 0.2210 - accuracy: 0.9145\n",
      "Epoch 9/30\n",
      "3825/3825 [==============================] - 1s 157us/step - loss: 0.2135 - accuracy: 0.9237\n",
      "Epoch 10/30\n",
      "3825/3825 [==============================] - 1s 155us/step - loss: 0.2106 - accuracy: 0.9286\n",
      "Epoch 11/30\n",
      "3825/3825 [==============================] - 1s 155us/step - loss: 0.2068 - accuracy: 0.9297\n",
      "Epoch 12/30\n",
      "3825/3825 [==============================] - 1s 160us/step - loss: 0.2066 - accuracy: 0.9271\n",
      "Epoch 13/30\n",
      "3825/3825 [==============================] - 1s 154us/step - loss: 0.1934 - accuracy: 0.9388\n",
      "Epoch 14/30\n",
      "3825/3825 [==============================] - 1s 155us/step - loss: 0.1895 - accuracy: 0.9459\n",
      "Epoch 15/30\n",
      "3825/3825 [==============================] - 1s 155us/step - loss: 0.1901 - accuracy: 0.9417\n",
      "Epoch 16/30\n",
      "3825/3825 [==============================] - 1s 157us/step - loss: 0.1772 - accuracy: 0.9540\n",
      "Epoch 17/30\n",
      "3825/3825 [==============================] - 1s 155us/step - loss: 0.1769 - accuracy: 0.9558\n",
      "Epoch 18/30\n",
      "3825/3825 [==============================] - 1s 155us/step - loss: 0.1757 - accuracy: 0.9540\n",
      "Epoch 19/30\n",
      "3825/3825 [==============================] - 1s 156us/step - loss: 0.1703 - accuracy: 0.9595\n",
      "Epoch 20/30\n",
      "3825/3825 [==============================] - 1s 157us/step - loss: 0.1720 - accuracy: 0.9569\n",
      "Epoch 21/30\n",
      "3825/3825 [==============================] - 1s 156us/step - loss: 0.1697 - accuracy: 0.9610\n",
      "Epoch 22/30\n",
      "3825/3825 [==============================] - 1s 155us/step - loss: 0.1583 - accuracy: 0.9689\n",
      "Epoch 23/30\n",
      "3825/3825 [==============================] - 1s 155us/step - loss: 0.1584 - accuracy: 0.9676\n",
      "Epoch 24/30\n",
      "3825/3825 [==============================] - 1s 154us/step - loss: 0.1556 - accuracy: 0.9694\n",
      "Epoch 25/30\n",
      "3825/3825 [==============================] - 1s 158us/step - loss: 0.1528 - accuracy: 0.9692\n",
      "Epoch 26/30\n",
      "3825/3825 [==============================] - 1s 173us/step - loss: 0.1526 - accuracy: 0.9671\n",
      "Epoch 27/30\n",
      "3825/3825 [==============================] - 1s 159us/step - loss: 0.1475 - accuracy: 0.9692\n",
      "Epoch 28/30\n",
      "3825/3825 [==============================] - 1s 162us/step - loss: 0.1410 - accuracy: 0.9765\n",
      "Epoch 29/30\n",
      "3825/3825 [==============================] - 1s 163us/step - loss: 0.1463 - accuracy: 0.9673\n",
      "Epoch 30/30\n",
      "3825/3825 [==============================] - 1s 164us/step - loss: 0.1392 - accuracy: 0.9757\n"
     ]
    }
   ],
   "source": [
    "history = model.fit(X_train, y_train,batch_size=16, epochs=30,shuffle=True, verbose=1)"
   ]
  },
  {
   "cell_type": "code",
   "execution_count": 46,
   "metadata": {},
   "outputs": [
    {
     "data": {
      "image/png": "[encoded data removed]",
      "text/plain": [
       "<Figure size 432x288 with 1 Axes>"
      ]
     },
     "metadata": {
      "needs_background": "light"
     },
     "output_type": "display_data"
    },
    {
     "data": {
      "image/png": "[encoded data removed]",
      "text/plain": [
       "<Figure size 432x288 with 1 Axes>"
      ]
     },
     "metadata": {
      "needs_background": "light"
     },
     "output_type": "display_data"
    }
   ],
   "source": [
    "acc = history.history['accuracy']\n",
    "loss = history.history['loss']\n",
    "epochs = range(len(acc))\n",
    "plt.plot(epochs, acc, 'b', label='Training accuracy')\n",
    "plt.title('Training accuracy')\n",
    "plt.figure()\n",
    "plt.plot(epochs, loss, 'b', label='Training Loss')\n",
    "plt.title('Training loss')\n",
    "plt.legend()\n",
    "plt.show()"
   ]
  },
  {
   "cell_type": "markdown",
   "metadata": {},
   "source": [
    "# Task 2\n",
    "\n",
    "Test the model on the test set."
   ]
  },
  {
   "cell_type": "code",
   "execution_count": 47,
   "metadata": {},
   "outputs": [
    {
     "name": "stdout",
     "output_type": "stream",
     "text": [
      "Train on 3825 samples, validate on 675 samples\n",
      "Epoch 1/30\n",
      "3825/3825 [==============================] - 0s 53us/step - loss: 0.1370 - accuracy: 0.9752 - val_loss: 0.2487 - val_accuracy: 0.9778\n",
      "Epoch 2/30\n",
      "3825/3825 [==============================] - 0s 34us/step - loss: 0.1350 - accuracy: 0.9749 - val_loss: 0.2539 - val_accuracy: 0.9763\n",
      "Epoch 3/30\n",
      "3825/3825 [==============================] - 0s 34us/step - loss: 0.1364 - accuracy: 0.9757 - val_loss: 0.2480 - val_accuracy: 0.9822\n",
      "Epoch 4/30\n",
      "3825/3825 [==============================] - 0s 35us/step - loss: 0.1364 - accuracy: 0.9733 - val_loss: 0.2503 - val_accuracy: 0.9822\n",
      "Epoch 5/30\n",
      "3825/3825 [==============================] - 0s 33us/step - loss: 0.1359 - accuracy: 0.9778 - val_loss: 0.2484 - val_accuracy: 0.9822\n",
      "Epoch 6/30\n",
      "3825/3825 [==============================] - 0s 34us/step - loss: 0.1302 - accuracy: 0.9788 - val_loss: 0.2496 - val_accuracy: 0.9807\n",
      "Epoch 7/30\n",
      "3825/3825 [==============================] - 0s 37us/step - loss: 0.1372 - accuracy: 0.9762 - val_loss: 0.2510 - val_accuracy: 0.9807\n",
      "Epoch 8/30\n",
      "3825/3825 [==============================] - 0s 35us/step - loss: 0.1342 - accuracy: 0.9733 - val_loss: 0.2470 - val_accuracy: 0.9822\n",
      "Epoch 9/30\n",
      "3825/3825 [==============================] - 0s 35us/step - loss: 0.1342 - accuracy: 0.9796 - val_loss: 0.2498 - val_accuracy: 0.9807\n",
      "Epoch 10/30\n",
      "3825/3825 [==============================] - 0s 34us/step - loss: 0.1326 - accuracy: 0.9752 - val_loss: 0.2541 - val_accuracy: 0.9807\n",
      "Epoch 11/30\n",
      "3825/3825 [==============================] - 0s 35us/step - loss: 0.1355 - accuracy: 0.9754 - val_loss: 0.2474 - val_accuracy: 0.9822\n",
      "Epoch 12/30\n",
      "3825/3825 [==============================] - 0s 34us/step - loss: 0.1313 - accuracy: 0.9788 - val_loss: 0.2502 - val_accuracy: 0.9807\n",
      "Epoch 13/30\n",
      "3825/3825 [==============================] - 0s 34us/step - loss: 0.1291 - accuracy: 0.9807 - val_loss: 0.2470 - val_accuracy: 0.9837\n",
      "Epoch 14/30\n",
      "3825/3825 [==============================] - 0s 34us/step - loss: 0.1318 - accuracy: 0.9775 - val_loss: 0.2471 - val_accuracy: 0.9822\n",
      "Epoch 15/30\n",
      "3825/3825 [==============================] - 0s 34us/step - loss: 0.1298 - accuracy: 0.9780 - val_loss: 0.2495 - val_accuracy: 0.9822\n",
      "Epoch 16/30\n",
      "3825/3825 [==============================] - 0s 34us/step - loss: 0.1304 - accuracy: 0.9775 - val_loss: 0.2520 - val_accuracy: 0.9822\n",
      "Epoch 17/30\n",
      "3825/3825 [==============================] - 0s 34us/step - loss: 0.1291 - accuracy: 0.9796 - val_loss: 0.2464 - val_accuracy: 0.9837\n",
      "Epoch 18/30\n",
      "3825/3825 [==============================] - 0s 35us/step - loss: 0.1311 - accuracy: 0.9780 - val_loss: 0.2488 - val_accuracy: 0.9837\n",
      "Epoch 19/30\n",
      "3825/3825 [==============================] - 0s 35us/step - loss: 0.1299 - accuracy: 0.9765 - val_loss: 0.2507 - val_accuracy: 0.9807\n",
      "Epoch 20/30\n",
      "3825/3825 [==============================] - 0s 34us/step - loss: 0.1277 - accuracy: 0.9762 - val_loss: 0.2443 - val_accuracy: 0.9822\n",
      "Epoch 21/30\n",
      "3825/3825 [==============================] - 0s 34us/step - loss: 0.1314 - accuracy: 0.9746 - val_loss: 0.2460 - val_accuracy: 0.9837\n",
      "Epoch 22/30\n",
      "3825/3825 [==============================] - 0s 34us/step - loss: 0.1279 - accuracy: 0.9767 - val_loss: 0.2478 - val_accuracy: 0.9822\n",
      "Epoch 23/30\n",
      "3825/3825 [==============================] - 0s 34us/step - loss: 0.1277 - accuracy: 0.9796 - val_loss: 0.2475 - val_accuracy: 0.9867\n",
      "Epoch 24/30\n",
      "3825/3825 [==============================] - 0s 35us/step - loss: 0.1283 - accuracy: 0.9773 - val_loss: 0.2472 - val_accuracy: 0.9852\n",
      "Epoch 25/30\n",
      "3825/3825 [==============================] - 0s 35us/step - loss: 0.1262 - accuracy: 0.9809 - val_loss: 0.2397 - val_accuracy: 0.9896\n",
      "Epoch 26/30\n",
      "3825/3825 [==============================] - 0s 36us/step - loss: 0.1273 - accuracy: 0.9786 - val_loss: 0.2452 - val_accuracy: 0.9852\n",
      "Epoch 27/30\n",
      "3825/3825 [==============================] - 0s 35us/step - loss: 0.1275 - accuracy: 0.9770 - val_loss: 0.2512 - val_accuracy: 0.9837\n",
      "Epoch 28/30\n",
      "3825/3825 [==============================] - 0s 35us/step - loss: 0.1230 - accuracy: 0.9767 - val_loss: 0.2442 - val_accuracy: 0.9852\n",
      "Epoch 29/30\n",
      "3825/3825 [==============================] - 0s 34us/step - loss: 0.1205 - accuracy: 0.9807 - val_loss: 0.2506 - val_accuracy: 0.9852\n",
      "Epoch 30/30\n",
      "3825/3825 [==============================] - 0s 33us/step - loss: 0.1221 - accuracy: 0.9817 - val_loss: 0.2475 - val_accuracy: 0.9852\n"
     ]
    },
    {
     "data": {
      "text/plain": [
       "<keras.callbacks.callbacks.History at 0x2371ad58b48>"
      ]
     },
     "execution_count": 47,
     "metadata": {},
     "output_type": "execute_result"
    }
   ],
   "source": [
    "# START YOUR CODE HERE\n",
    "model.fit(X_train,y_train,epochs=30,batch_size=100,validation_data=(X_test,y_test))"
   ]
  },
  {
   "cell_type": "markdown",
   "metadata": {},
   "source": [
    "# Congratulations!\n",
    "\n",
    "You've come to the end of this assignment, and you have built your first neural network. \n",
    "\n",
    "Congratulations on finishing this notebook! \n",
    "\n"
   ]
  },
  {
   "cell_type": "code",
   "execution_count": null,
   "metadata": {},
   "outputs": [],
   "source": []
  }
 ],
 "metadata": {
  "coursera": {
   "course_slug": "nlp-sequence-models",
   "graded_item_id": "8hb5s",
   "launcher_item_id": "5NrJ6"
  },
  "kernelspec": {
   "display_name": "Python 3",
   "language": "python",
   "name": "python3"
  },
  "language_info": {
   "codemirror_mode": {
    "name": "ipython",
    "version": 3
   },
   "file_extension": ".py",
   "mimetype": "text/x-python",
   "name": "python",
   "nbconvert_exporter": "python",
   "pygments_lexer": "ipython3",
   "version": "3.7.6"
  }
 },
 "nbformat": 4,
 "nbformat_minor": 2
}
