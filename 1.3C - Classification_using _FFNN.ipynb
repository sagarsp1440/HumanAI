{
 "cells": [
  {
   "cell_type": "markdown",
   "metadata": {},
   "source": [
    "GitHub [link](https://github.com/sagarsp1440/HumanAI)!\n"
   ]
  },
  {
   "cell_type": "code",
   "execution_count": null,
   "metadata": {},
   "outputs": [],
   "source": []
  },
  {
   "cell_type": "markdown",
   "metadata": {},
   "source": [
    "Welcome to your assignment this week! \n",
    "\n",
    "\n",
    "# Classification task\n",
    "\n",
    "In this task you are asked to build a simple Feed Forward Neural Network, train it and test it!\n",
    "\n",
    "\n",
    "**After this assignment you will be able to:**\n",
    "\n",
    "- Load a dataset.\n",
    "- Train a Feed Forward Neural Network.\n",
    "- Test a Feed Forward Neural Network.\n",
    "\n",
    "Let's get started! Run the following cell to install all the packages you will need."
   ]
  },
  {
   "cell_type": "code",
   "execution_count": 1,
   "metadata": {},
   "outputs": [],
   "source": [
    "#!pip install numpy\n",
    "#!pip install keras\n",
    "#!pip install tensorflow\n",
    "#!pip install pandas\n",
    "#!pip install matplotlib"
   ]
  },
  {
   "cell_type": "markdown",
   "metadata": {},
   "source": [
    "Run the following cell to load the packages you will need."
   ]
  },
  {
   "cell_type": "code",
   "execution_count": 2,
   "metadata": {},
   "outputs": [
    {
     "name": "stderr",
     "output_type": "stream",
     "text": [
      "\n",
      "Bad key \"text.kerning_factor\" on line 4 in\n",
      "C:\\Users\\sagar\\anaconda3\\lib\\site-packages\\matplotlib\\mpl-data\\stylelib\\_classic_test_patch.mplstyle.\n",
      "You probably need to get an updated matplotlibrc file from\n",
      "https://github.com/matplotlib/matplotlib/blob/v3.1.3/matplotlibrc.template\n",
      "or from the matplotlib source distribution\n",
      "Using TensorFlow backend.\n"
     ]
    }
   ],
   "source": [
    "import numpy as np # linear algebra\n",
    "import pandas as pd # data processing, CSV file I/O (e.g. pd.read_csv)\n",
    "from sklearn.model_selection import train_test_split\n",
    "import matplotlib.pyplot as plt\n",
    "import keras\n",
    "from keras.models import Sequential\n",
    "from keras.layers import Dense"
   ]
  },
  {
   "cell_type": "markdown",
   "metadata": {},
   "source": [
    "The dataset we will use consists of 4500 examples with 512 features. A label is given for each example to indicate positive and negative instances.\n",
    "\n",
    "Let's read the data."
   ]
  },
  {
   "cell_type": "code",
   "execution_count": 3,
   "metadata": {},
   "outputs": [],
   "source": [
    "df = pd.read_csv('data.csv')\n",
    "df.set_index('id', inplace=True)"
   ]
  },
  {
   "cell_type": "markdown",
   "metadata": {},
   "source": [
    "Now, let's split the data into training and test sets."
   ]
  },
  {
   "cell_type": "code",
   "execution_count": 4,
   "metadata": {},
   "outputs": [
    {
     "name": "stdout",
     "output_type": "stream",
     "text": [
      "[[ 0.37797 -0.94808  0.01346 ...  1.08635  1.69027  0.61609]\n",
      " [ 0.07609 -0.09774  0.39666 ...  0.00866 -1.2764  -0.60496]\n",
      " [ 1.19391 -0.68707 -0.68422 ... -0.60177  0.43555  0.41982]\n",
      " ...\n",
      " [-0.81564 -0.46034 -0.40044 ...  0.14222  0.10394 -0.33635]\n",
      " [ 0.09764 -0.0544  -1.53883 ... -0.25393  0.84022 -0.13068]\n",
      " [ 0.48335  1.66099 -1.98407 ...  0.06201 -2.24746  0.17192]]\n",
      "[[0]\n",
      " [1]\n",
      " [1]\n",
      " ...\n",
      " [1]\n",
      " [1]\n",
      " [0]]\n",
      "(3825, 1)\n",
      "(3825, 512)\n"
     ]
    }
   ],
   "source": [
    "X_train, X_test, y_train, y_test = train_test_split(\n",
    "    df.index.values,\n",
    "    df.label.values,\n",
    "    test_size=0.15,\n",
    "    random_state=17,\n",
    "    stratify=df.label.values\n",
    ")\n",
    "df['data_type'] = ['note_set']*df.shape[0]\n",
    "df.loc[X_train, 'data_type'] = 'train'\n",
    "df.loc[X_test, 'data_type'] = 'test'\n",
    "\n",
    "## The data to use:\n",
    "\n",
    "X_train = df[df['data_type']=='train'].iloc[:,:512].values\n",
    "X_test = df[df['data_type']=='test'].iloc[:,:512].values\n",
    "y_train = df[df['data_type']=='train'].iloc[:,512:513].values\n",
    "y_test = df[df['data_type']=='test'].iloc[:,512:513].values\n",
    "print(X_train)\n",
    "print(y_train)\n",
    "print(y_train.shape\n",
    "     )\n",
    "print(X_train.shape)"
   ]
  },
  {
   "cell_type": "markdown",
   "metadata": {},
   "source": [
    "# Task 1\n",
    "\n",
    "Build a Feed Forward Neural Network to address this classification task using the Keras framework."
   ]
  },
  {
   "cell_type": "code",
   "execution_count": 5,
   "metadata": {},
   "outputs": [
    {
     "name": "stdout",
     "output_type": "stream",
     "text": [
      "WARNING:tensorflow:From C:\\Users\\sagar\\anaconda3\\lib\\site-packages\\keras\\backend\\tensorflow_backend.py:422: The name tf.global_variables is deprecated. Please use tf.compat.v1.global_variables instead.\n",
      "\n",
      "Epoch 1/30\n",
      "3825/3825 [==============================] - 1s 306us/step - loss: 0.8092 - accuracy: 0.3626\n",
      "Epoch 2/30\n",
      "3825/3825 [==============================] - 0s 51us/step - loss: 0.6460 - accuracy: 0.4384\n",
      "Epoch 3/30\n",
      "3825/3825 [==============================] - 0s 50us/step - loss: 0.5836 - accuracy: 0.4902\n",
      "Epoch 4/30\n",
      "3825/3825 [==============================] - 0s 50us/step - loss: 0.5389 - accuracy: 0.5234\n",
      "Epoch 5/30\n",
      "3825/3825 [==============================] - 0s 48us/step - loss: 0.5045 - accuracy: 0.5558\n",
      "Epoch 6/30\n",
      "3825/3825 [==============================] - 0s 52us/step - loss: 0.4844 - accuracy: 0.5702\n",
      "Epoch 7/30\n",
      "3825/3825 [==============================] - 0s 50us/step - loss: 0.4572 - accuracy: 0.5997\n",
      "Epoch 8/30\n",
      "3825/3825 [==============================] - 0s 50us/step - loss: 0.4384 - accuracy: 0.6256\n",
      "Epoch 9/30\n",
      "3825/3825 [==============================] - 0s 52us/step - loss: 0.4312 - accuracy: 0.6366\n",
      "Epoch 10/30\n",
      "3825/3825 [==============================] - 0s 51us/step - loss: 0.4123 - accuracy: 0.6633\n",
      "Epoch 11/30\n",
      "3825/3825 [==============================] - 0s 53us/step - loss: 0.4013 - accuracy: 0.6790\n",
      "Epoch 12/30\n",
      "3825/3825 [==============================] - 0s 51us/step - loss: 0.3969 - accuracy: 0.6792\n",
      "Epoch 13/30\n",
      "3825/3825 [==============================] - 0s 52us/step - loss: 0.3888 - accuracy: 0.6873\n",
      "Epoch 14/30\n",
      "3825/3825 [==============================] - 0s 58us/step - loss: 0.3822 - accuracy: 0.6975\n",
      "Epoch 15/30\n",
      "3825/3825 [==============================] - 0s 68us/step - loss: 0.3674 - accuracy: 0.7218\n",
      "Epoch 16/30\n",
      "3825/3825 [==============================] - 0s 71us/step - loss: 0.3658 - accuracy: 0.7210\n",
      "Epoch 17/30\n",
      "3825/3825 [==============================] - 0s 67us/step - loss: 0.3632 - accuracy: 0.7263\n",
      "Epoch 18/30\n",
      "3825/3825 [==============================] - 0s 68us/step - loss: 0.3485 - accuracy: 0.7524\n",
      "Epoch 19/30\n",
      "3825/3825 [==============================] - 0s 68us/step - loss: 0.3431 - accuracy: 0.7522\n",
      "Epoch 20/30\n",
      "3825/3825 [==============================] - 0s 69us/step - loss: 0.3408 - accuracy: 0.7692\n",
      "Epoch 21/30\n",
      "3825/3825 [==============================] - 0s 68us/step - loss: 0.3355 - accuracy: 0.7605\n",
      "Epoch 22/30\n",
      "3825/3825 [==============================] - 0s 66us/step - loss: 0.3313 - accuracy: 0.7723\n",
      "Epoch 23/30\n",
      "3825/3825 [==============================] - 0s 67us/step - loss: 0.3290 - accuracy: 0.7780\n",
      "Epoch 24/30\n",
      "3825/3825 [==============================] - 0s 64us/step - loss: 0.3226 - accuracy: 0.7901\n",
      "Epoch 25/30\n",
      "3825/3825 [==============================] - 0s 60us/step - loss: 0.3102 - accuracy: 0.8044\n",
      "Epoch 26/30\n",
      "3825/3825 [==============================] - 0s 60us/step - loss: 0.3077 - accuracy: 0.8105\n",
      "Epoch 27/30\n",
      "3825/3825 [==============================] - 0s 60us/step - loss: 0.3051 - accuracy: 0.8144\n",
      "Epoch 28/30\n",
      "3825/3825 [==============================] - 0s 64us/step - loss: 0.3044 - accuracy: 0.8183\n",
      "Epoch 29/30\n",
      "3825/3825 [==============================] - 0s 62us/step - loss: 0.3037 - accuracy: 0.8191\n",
      "Epoch 30/30\n",
      "3825/3825 [==============================] - 0s 61us/step - loss: 0.2918 - accuracy: 0.8337\n",
      "Model: \"sequential_1\"\n",
      "_________________________________________________________________\n",
      "Layer (type)                 Output Shape              Param #   \n",
      "=================================================================\n",
      "dense_1 (Dense)              (None, 32)                16416     \n",
      "_________________________________________________________________\n",
      "drp1 (Dropout)               (None, 32)                0         \n",
      "_________________________________________________________________\n",
      "dense_2 (Dense)              (None, 64)                2112      \n",
      "_________________________________________________________________\n",
      "output (Dense)               (None, 1)                 65        \n",
      "=================================================================\n",
      "Total params: 18,593\n",
      "Trainable params: 18,593\n",
      "Non-trainable params: 0\n",
      "_________________________________________________________________\n"
     ]
    }
   ],
   "source": [
    "# START YOUR CODE HERE\n",
    "from keras.layers import Activation, Dropout\n",
    "from keras.optimizers import Adam\n",
    "model=Sequential()\n",
    "model.add(Dense(32,input_shape=(512,),activation='relu'))\n",
    "model.add(Dropout(0.5,name='drp1'))\n",
    "model.add(Dense(64,activation='relu'))\n",
    "model.add(Dense(1,name='output'))\n",
    "\n",
    "model.compile(optimizer=Adam(lr=0.0001), loss='mae', metrics=['accuracy'])\n",
    "history = model.fit(X_train, y_train,batch_size=74, epochs=30,shuffle=True, verbose=1)\n",
    "model.summary()"
   ]
  },
  {
   "cell_type": "markdown",
   "metadata": {},
   "source": [
    "# Training\n",
    "\n",
    "Now, let's start our training."
   ]
  },
  {
   "cell_type": "code",
   "execution_count": 6,
   "metadata": {},
   "outputs": [
    {
     "name": "stdout",
     "output_type": "stream",
     "text": [
      "Epoch 1/30\n",
      "3825/3825 [==============================] - 1s 256us/step - loss: 0.2905 - accuracy: 0.8397\n",
      "Epoch 2/30\n",
      "3825/3825 [==============================] - 1s 252us/step - loss: 0.2729 - accuracy: 0.8622\n",
      "Epoch 3/30\n",
      "3825/3825 [==============================] - 1s 254us/step - loss: 0.2707 - accuracy: 0.8573\n",
      "Epoch 4/30\n",
      "3825/3825 [==============================] - 1s 261us/step - loss: 0.2566 - accuracy: 0.8834\n",
      "Epoch 5/30\n",
      "3825/3825 [==============================] - 1s 259us/step - loss: 0.2482 - accuracy: 0.8970\n",
      "Epoch 6/30\n",
      "3825/3825 [==============================] - 1s 257us/step - loss: 0.2439 - accuracy: 0.9020\n",
      "Epoch 7/30\n",
      "3825/3825 [==============================] - 1s 258us/step - loss: 0.2375 - accuracy: 0.9054\n",
      "Epoch 8/30\n",
      "3825/3825 [==============================] - 1s 245us/step - loss: 0.2323 - accuracy: 0.9132\n",
      "Epoch 9/30\n",
      "3825/3825 [==============================] - 1s 260us/step - loss: 0.2219 - accuracy: 0.9244\n",
      "Epoch 10/30\n",
      "3825/3825 [==============================] - 1s 250us/step - loss: 0.2198 - accuracy: 0.9268\n",
      "Epoch 11/30\n",
      "3825/3825 [==============================] - 1s 251us/step - loss: 0.2151 - accuracy: 0.9307\n",
      "Epoch 12/30\n",
      "3825/3825 [==============================] - 1s 256us/step - loss: 0.2059 - accuracy: 0.9393\n",
      "Epoch 13/30\n",
      "3825/3825 [==============================] - 1s 251us/step - loss: 0.2066 - accuracy: 0.9359\n",
      "Epoch 14/30\n",
      "3825/3825 [==============================] - 1s 249us/step - loss: 0.1958 - accuracy: 0.9472\n",
      "Epoch 15/30\n",
      "3825/3825 [==============================] - 1s 250us/step - loss: 0.1931 - accuracy: 0.9516\n",
      "Epoch 16/30\n",
      "3825/3825 [==============================] - 1s 251us/step - loss: 0.1880 - accuracy: 0.9563\n",
      "Epoch 17/30\n",
      "3825/3825 [==============================] - 1s 248us/step - loss: 0.1876 - accuracy: 0.9503\n",
      "Epoch 18/30\n",
      "3825/3825 [==============================] - 1s 252us/step - loss: 0.1862 - accuracy: 0.9532\n",
      "Epoch 19/30\n",
      "3825/3825 [==============================] - 1s 246us/step - loss: 0.1806 - accuracy: 0.9592\n",
      "Epoch 20/30\n",
      "3825/3825 [==============================] - 1s 251us/step - loss: 0.1777 - accuracy: 0.9584\n",
      "Epoch 21/30\n",
      "3825/3825 [==============================] - 1s 246us/step - loss: 0.1746 - accuracy: 0.9590\n",
      "Epoch 22/30\n",
      "3825/3825 [==============================] - 1s 252us/step - loss: 0.1708 - accuracy: 0.9673\n",
      "Epoch 23/30\n",
      "3825/3825 [==============================] - 1s 243us/step - loss: 0.1674 - accuracy: 0.9689\n",
      "Epoch 24/30\n",
      "3825/3825 [==============================] - 1s 248us/step - loss: 0.1606 - accuracy: 0.9712\n",
      "Epoch 25/30\n",
      "3825/3825 [==============================] - 1s 254us/step - loss: 0.1583 - accuracy: 0.9752\n",
      "Epoch 26/30\n",
      "3825/3825 [==============================] - 1s 248us/step - loss: 0.1556 - accuracy: 0.9749\n",
      "Epoch 27/30\n",
      "3825/3825 [==============================] - 1s 253us/step - loss: 0.1543 - accuracy: 0.9715\n",
      "Epoch 28/30\n",
      "3825/3825 [==============================] - 1s 255us/step - loss: 0.1474 - accuracy: 0.9752\n",
      "Epoch 29/30\n",
      "3825/3825 [==============================] - ETA: 0s - loss: 0.1467 - accuracy: 0.97 - 1s 245us/step - loss: 0.1467 - accuracy: 0.9780\n",
      "Epoch 30/30\n",
      "3825/3825 [==============================] - 1s 248us/step - loss: 0.1413 - accuracy: 0.9830\n"
     ]
    }
   ],
   "source": [
    "history = model.fit(X_train, y_train,batch_size=16, epochs=30,shuffle=True, verbose=1)"
   ]
  },
  {
   "cell_type": "code",
   "execution_count": 7,
   "metadata": {},
   "outputs": [
    {
     "data": {
      "image/png": "[encoded data removed]",
      "text/plain": [
       "<Figure size 432x288 with 1 Axes>"
      ]
     },
     "metadata": {
      "needs_background": "light"
     },
     "output_type": "display_data"
    },
    {
     "data": {
      "image/png": "[encoded data removed]",
      "text/plain": [
       "<Figure size 432x288 with 1 Axes>"
      ]
     },
     "metadata": {
      "needs_background": "light"
     },
     "output_type": "display_data"
    }
   ],
   "source": [
    "acc = history.history['accuracy']\n",
    "loss = history.history['loss']\n",
    "epochs = range(len(acc))\n",
    "plt.plot(epochs, acc, 'b', label='Training accuracy')\n",
    "plt.title('Training accuracy')\n",
    "plt.figure()\n",
    "plt.plot(epochs, loss, 'b', label='Training Loss')\n",
    "plt.title('Training loss')\n",
    "plt.legend()\n",
    "plt.show()"
   ]
  },
  {
   "cell_type": "markdown",
   "metadata": {},
   "source": [
    "# Task 2\n",
    "\n",
    "Test the model on the test set."
   ]
  },
  {
   "cell_type": "code",
   "execution_count": 8,
   "metadata": {},
   "outputs": [
    {
     "name": "stdout",
     "output_type": "stream",
     "text": [
      "Train on 3825 samples, validate on 675 samples\n",
      "Epoch 1/30\n",
      "3825/3825 [==============================] - 0s 61us/step - loss: 0.1428 - accuracy: 0.9796 - val_loss: 0.2751 - val_accuracy: 0.9674\n",
      "Epoch 2/30\n",
      "3825/3825 [==============================] - 0s 53us/step - loss: 0.1424 - accuracy: 0.9793 - val_loss: 0.2793 - val_accuracy: 0.9556\n",
      "Epoch 3/30\n",
      "3825/3825 [==============================] - 0s 53us/step - loss: 0.1416 - accuracy: 0.9804 - val_loss: 0.2883 - val_accuracy: 0.9437\n",
      "Epoch 4/30\n",
      "3825/3825 [==============================] - 0s 53us/step - loss: 0.1377 - accuracy: 0.9814 - val_loss: 0.2805 - val_accuracy: 0.9556\n",
      "Epoch 5/30\n",
      "3825/3825 [==============================] - 0s 57us/step - loss: 0.1371 - accuracy: 0.9799 - val_loss: 0.2784 - val_accuracy: 0.9570\n",
      "Epoch 6/30\n",
      "3825/3825 [==============================] - 0s 55us/step - loss: 0.1389 - accuracy: 0.9793 - val_loss: 0.2789 - val_accuracy: 0.9570\n",
      "Epoch 7/30\n",
      "3825/3825 [==============================] - 0s 51us/step - loss: 0.1385 - accuracy: 0.9838 - val_loss: 0.2752 - val_accuracy: 0.9585\n",
      "Epoch 8/30\n",
      "3825/3825 [==============================] - 0s 53us/step - loss: 0.1370 - accuracy: 0.9799 - val_loss: 0.2850 - val_accuracy: 0.9467\n",
      "Epoch 9/30\n",
      "3825/3825 [==============================] - 0s 51us/step - loss: 0.1352 - accuracy: 0.9796 - val_loss: 0.2732 - val_accuracy: 0.9644\n",
      "Epoch 10/30\n",
      "3825/3825 [==============================] - 0s 52us/step - loss: 0.1351 - accuracy: 0.9830 - val_loss: 0.2813 - val_accuracy: 0.9541\n",
      "Epoch 11/30\n",
      "3825/3825 [==============================] - 0s 51us/step - loss: 0.1348 - accuracy: 0.9801 - val_loss: 0.2787 - val_accuracy: 0.9556\n",
      "Epoch 12/30\n",
      "3825/3825 [==============================] - 0s 52us/step - loss: 0.1373 - accuracy: 0.9783 - val_loss: 0.2786 - val_accuracy: 0.9570\n",
      "Epoch 13/30\n",
      "3825/3825 [==============================] - 0s 50us/step - loss: 0.1321 - accuracy: 0.9841 - val_loss: 0.2868 - val_accuracy: 0.9481\n",
      "Epoch 14/30\n",
      "3825/3825 [==============================] - 0s 51us/step - loss: 0.1352 - accuracy: 0.9827 - val_loss: 0.2782 - val_accuracy: 0.9600\n",
      "Epoch 15/30\n",
      "3825/3825 [==============================] - 0s 53us/step - loss: 0.1375 - accuracy: 0.9799 - val_loss: 0.2806 - val_accuracy: 0.9570\n",
      "Epoch 16/30\n",
      "3825/3825 [==============================] - 0s 54us/step - loss: 0.1358 - accuracy: 0.9809 - val_loss: 0.2732 - val_accuracy: 0.9615\n",
      "Epoch 17/30\n",
      "3825/3825 [==============================] - 0s 50us/step - loss: 0.1356 - accuracy: 0.9807 - val_loss: 0.2808 - val_accuracy: 0.9541\n",
      "Epoch 18/30\n",
      "3825/3825 [==============================] - 0s 51us/step - loss: 0.1321 - accuracy: 0.9822 - val_loss: 0.2813 - val_accuracy: 0.9541\n",
      "Epoch 19/30\n",
      "3825/3825 [==============================] - 0s 53us/step - loss: 0.1342 - accuracy: 0.9791 - val_loss: 0.2736 - val_accuracy: 0.9644\n",
      "Epoch 20/30\n",
      "3825/3825 [==============================] - 0s 53us/step - loss: 0.1334 - accuracy: 0.9830 - val_loss: 0.2819 - val_accuracy: 0.9496\n",
      "Epoch 21/30\n",
      "3825/3825 [==============================] - 0s 51us/step - loss: 0.1306 - accuracy: 0.9851 - val_loss: 0.2787 - val_accuracy: 0.9600\n",
      "Epoch 22/30\n",
      "3825/3825 [==============================] - 0s 50us/step - loss: 0.1291 - accuracy: 0.9851 - val_loss: 0.2857 - val_accuracy: 0.9511\n",
      "Epoch 23/30\n",
      "3825/3825 [==============================] - 0s 51us/step - loss: 0.1308 - accuracy: 0.9859 - val_loss: 0.2826 - val_accuracy: 0.9556\n",
      "Epoch 24/30\n",
      "3825/3825 [==============================] - 0s 61us/step - loss: 0.1290 - accuracy: 0.9846 - val_loss: 0.2744 - val_accuracy: 0.9704\n",
      "Epoch 25/30\n",
      "3825/3825 [==============================] - 0s 58us/step - loss: 0.1263 - accuracy: 0.9854 - val_loss: 0.2715 - val_accuracy: 0.9719\n",
      "Epoch 26/30\n",
      "3825/3825 [==============================] - ETA: 0s - loss: 0.1266 - accuracy: 0.98 - 0s 53us/step - loss: 0.1280 - accuracy: 0.9856 - val_loss: 0.2701 - val_accuracy: 0.9748\n",
      "Epoch 27/30\n",
      "3825/3825 [==============================] - 0s 52us/step - loss: 0.1254 - accuracy: 0.9851 - val_loss: 0.2754 - val_accuracy: 0.9644\n",
      "Epoch 28/30\n",
      "3825/3825 [==============================] - 0s 51us/step - loss: 0.1296 - accuracy: 0.9820 - val_loss: 0.2745 - val_accuracy: 0.9674\n",
      "Epoch 29/30\n",
      "3825/3825 [==============================] - 0s 50us/step - loss: 0.1290 - accuracy: 0.9861 - val_loss: 0.2795 - val_accuracy: 0.9630\n",
      "Epoch 30/30\n",
      "3825/3825 [==============================] - 0s 53us/step - loss: 0.1239 - accuracy: 0.9869 - val_loss: 0.2720 - val_accuracy: 0.9719\n"
     ]
    },
    {
     "data": {
      "text/plain": [
       "<keras.callbacks.callbacks.History at 0x27766768248>"
      ]
     },
     "execution_count": 8,
     "metadata": {},
     "output_type": "execute_result"
    }
   ],
   "source": [
    "# START YOUR CODE HERE\n",
    "model.fit(X_train,y_train,epochs=30,batch_size=100,validation_data=(X_test,y_test))"
   ]
  },
  {
   "cell_type": "markdown",
   "metadata": {},
   "source": [
    "# Congratulations!\n",
    "\n",
    "You've come to the end of this assignment, and you have built your first neural network. \n",
    "\n",
    "Congratulations on finishing this notebook! \n",
    "\n"
   ]
  },
  {
   "cell_type": "code",
   "execution_count": 10,
   "metadata": {},
   "outputs": [
    {
     "name": "stdout",
     "output_type": "stream",
     "text": [
      "Evaluate on test data\n",
      "675/675 [==============================] - 0s 24us/step\n",
      "test loss, test acc: [0.2719705641269684, 0.9718518257141113]\n",
      "Generate predictions for 3 samples\n",
      "predictions shape: (3, 1)\n"
     ]
    }
   ],
   "source": [
    "print(\"Evaluate on test data\")\n",
    "results = model.evaluate(X_test, y_test, batch_size=120)\n",
    "print(\"test loss, test acc:\", results)\n"
   ]
  },
  {
   "cell_type": "code",
   "execution_count": null,
   "metadata": {},
   "outputs": [],
   "source": []
  }
 ],
 "metadata": {
  "coursera": {
   "course_slug": "nlp-sequence-models",
   "graded_item_id": "8hb5s",
   "launcher_item_id": "5NrJ6"
  },
  "kernelspec": {
   "display_name": "Python 3",
   "language": "python",
   "name": "python3"
  },
  "language_info": {
   "codemirror_mode": {
    "name": "ipython",
    "version": 3
   },
   "file_extension": ".py",
   "mimetype": "text/x-python",
   "name": "python",
   "nbconvert_exporter": "python",
   "pygments_lexer": "ipython3",
   "version": "3.7.6"
  }
 },
 "nbformat": 4,
 "nbformat_minor": 2
}
